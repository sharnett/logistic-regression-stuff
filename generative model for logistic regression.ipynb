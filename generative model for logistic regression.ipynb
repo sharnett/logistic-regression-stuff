{
 "metadata": {
  "name": "",
  "signature": "sha256:f7f013c10e3b4bb58c3efe20820005243b6136ca87701b8006836fd3df2f4ec0"
 },
 "nbformat": 3,
 "nbformat_minor": 0,
 "worksheets": [
  {
   "cells": [
    {
     "cell_type": "code",
     "collapsed": false,
     "input": [
      "import numpy as np\n",
      "from scipy.stats import norm as gaussian\n",
      "from sklearn.linear_model import LogisticRegression\n",
      "\n",
      "logistic = lambda x: 1/(1+np.exp(-x))"
     ],
     "language": "python",
     "metadata": {},
     "outputs": [],
     "prompt_number": 13
    },
    {
     "cell_type": "markdown",
     "metadata": {},
     "source": [
      "$$p = \\text{logistic}\\left(a x_1 + b x_2 + \\mathcal{N}(0, \\epsilon)\\right)$$\n",
      "\n",
      "or equivalently\n",
      "\n",
      "$$\\log\\left(\\frac{p}{1-p}\\right) = a x_1 + b x_2 + \\mathcal{N}(0, \\epsilon)$$\n",
      "\n",
      "where $p = Prob(y = 1)$"
     ]
    },
    {
     "cell_type": "code",
     "collapsed": false,
     "input": [
      "N = 1e5\n",
      "\n",
      "a = 2\n",
      "b = -3\n",
      "epsilon = 1e-1"
     ],
     "language": "python",
     "metadata": {},
     "outputs": [],
     "prompt_number": 2
    },
    {
     "cell_type": "markdown",
     "metadata": {},
     "source": [
      "Randomly assign $a$ and $b$ to our data points, and represent this as the design matrix $X$:"
     ]
    },
    {
     "cell_type": "code",
     "collapsed": false,
     "input": [
      "X = np.random.randint(0, 2, size=(N, 2))\n",
      "X[:10]"
     ],
     "language": "python",
     "metadata": {},
     "outputs": [
      {
       "metadata": {},
       "output_type": "pyout",
       "prompt_number": 5,
       "text": [
        "array([[1, 0],\n",
        "       [0, 0],\n",
        "       [0, 0],\n",
        "       [0, 0],\n",
        "       [1, 0],\n",
        "       [0, 0],\n",
        "       [1, 1],\n",
        "       [0, 1],\n",
        "       [1, 1],\n",
        "       [1, 0]])"
       ]
      }
     ],
     "prompt_number": 5
    },
    {
     "cell_type": "markdown",
     "metadata": {},
     "source": [
      "Compute $a x_1 + b x_2$ for each data point:"
     ]
    },
    {
     "cell_type": "code",
     "collapsed": false,
     "input": [
      "mu = X.dot([[a], [b]])[:, 0]\n",
      "mu[:10]"
     ],
     "language": "python",
     "metadata": {},
     "outputs": [
      {
       "metadata": {},
       "output_type": "pyout",
       "prompt_number": 9,
       "text": [
        "array([ 2,  0,  0,  0,  2,  0, -1, -3, -1,  2])"
       ]
      }
     ],
     "prompt_number": 9
    },
    {
     "cell_type": "code",
     "collapsed": false,
     "input": [
      "p = logistic(mu + gaussian.rvs(0, epsilon, size=N))\n",
      "p[:5]"
     ],
     "language": "python",
     "metadata": {},
     "outputs": [
      {
       "metadata": {},
       "output_type": "pyout",
       "prompt_number": 10,
       "text": [
        "array([ 0.8851939 ,  0.50328963,  0.50195543,  0.46800914,  0.89607792])"
       ]
      }
     ],
     "prompt_number": 10
    },
    {
     "cell_type": "code",
     "collapsed": false,
     "input": [
      "y = np.random.rand(N) < p\n",
      "y[:10]"
     ],
     "language": "python",
     "metadata": {},
     "outputs": [
      {
       "metadata": {},
       "output_type": "pyout",
       "prompt_number": 11,
       "text": [
        "array([ True,  True, False, False,  True,  True, False, False, False,  True], dtype=bool)"
       ]
      }
     ],
     "prompt_number": 11
    },
    {
     "cell_type": "markdown",
     "metadata": {},
     "source": [
      "Intercept should be 0, coefficients should be [a, b]"
     ]
    },
    {
     "cell_type": "code",
     "collapsed": false,
     "input": [
      "lr = LogisticRegression(C=1e16)\n",
      "lr.fit(X, y)\n",
      "print('intercept', lr.intercept_[0])\n",
      "print('coefficients', lr.coef_[0])"
     ],
     "language": "python",
     "metadata": {},
     "outputs": [
      {
       "output_type": "stream",
       "stream": "stdout",
       "text": [
        "intercept 0.000415162260143\n",
        "coefficients [ 1.99138227 -2.97568567]\n"
       ]
      }
     ],
     "prompt_number": 12
    },
    {
     "cell_type": "markdown",
     "metadata": {},
     "source": [
      "#Regularization\n",
      "\n",
      "$p = \\text{logistic}\\left(w^T x + \\mathcal{N}(0, \\epsilon)\\right)$\n",
      "\n",
      "$w = \\mathcal{N}(0, \\sigma)$\n"
     ]
    },
    {
     "cell_type": "code",
     "collapsed": false,
     "input": [
      "N = 1e5\n",
      "num_features = 1e3\n",
      "sigma = .3\n",
      "epsilon = 1e-1\n",
      "\n",
      "w = gaussian.rvs(0, sigma, size=num_features)\n",
      "w[:5]"
     ],
     "language": "python",
     "metadata": {},
     "outputs": []
    },
    {
     "cell_type": "code",
     "collapsed": false,
     "input": [
      "X = np.random.randint(0, 2, size=(N, num_features))\n",
      "mu = X.dot(w)\n",
      "p = logistic(mu + gaussian.rvs(0, epsilon, size=N))\n",
      "y = np.random.rand(N) < p"
     ],
     "language": "python",
     "metadata": {},
     "outputs": [],
     "prompt_number": 160
    },
    {
     "cell_type": "code",
     "collapsed": false,
     "input": [
      "lr = LogisticRegression(C=1e16)\n",
      "lr.fit(X, y)\n",
      "print('intercept', lr.intercept_[0])\n",
      "print('coefficient error', np.linalg.norm(lr.coef_[0] - w))"
     ],
     "language": "python",
     "metadata": {},
     "outputs": [
      {
       "output_type": "stream",
       "stream": "stdout",
       "text": [
        "intercept 0.0471153112658\n",
        "coefficient error 0.948455902104\n"
       ]
      }
     ],
     "prompt_number": 161
    },
    {
     "cell_type": "code",
     "collapsed": false,
     "input": [
      "lr = LogisticRegression(C=sigma)\n",
      "lr.fit(X, y)\n",
      "print('intercept', lr.intercept_[0])\n",
      "print('coefficient error', np.linalg.norm(lr.coef_[0] - w))"
     ],
     "language": "python",
     "metadata": {},
     "outputs": []
    },
    {
     "cell_type": "code",
     "collapsed": false,
     "input": [
      "lr.C = sigma\n",
      "lr.fit(X, y)\n",
      "print('intercept', lr.intercept_[0])\n",
      "print('coefficient error', np.linalg.norm(lr.coef_[0] - w))"
     ],
     "language": "python",
     "metadata": {},
     "outputs": [
      {
       "output_type": "stream",
       "stream": "stdout",
       "text": [
        "intercept 0.150561744534\n",
        "coefficient error 0.859556511327\n"
       ]
      }
     ],
     "prompt_number": 162
    },
    {
     "cell_type": "code",
     "collapsed": false,
     "input": [
      "lr.C = sigma**2\n",
      "lr.fit(X, y)\n",
      "print('intercept', lr.intercept_[0])\n",
      "print('coefficient error', np.linalg.norm(lr.coef_[0] - w))"
     ],
     "language": "python",
     "metadata": {},
     "outputs": [
      {
       "output_type": "stream",
       "stream": "stdout",
       "text": [
        "intercept 0.0311773739001\n",
        "coefficient error 0.830650894553\n"
       ]
      }
     ],
     "prompt_number": 163
    },
    {
     "cell_type": "code",
     "collapsed": false,
     "input": [
      "lr.C = 2*sigma\n",
      "lr.fit(X, y)\n",
      "print('intercept', lr.intercept_[0])\n",
      "print('coefficient error', np.linalg.norm(lr.coef_[0] - w))"
     ],
     "language": "python",
     "metadata": {},
     "outputs": [
      {
       "output_type": "stream",
       "stream": "stdout",
       "text": [
        "intercept 0.0463168029646\n",
        "coefficient error 0.898627263513\n"
       ]
      }
     ],
     "prompt_number": 164
    },
    {
     "cell_type": "markdown",
     "metadata": {},
     "source": [
      "wtf is C anyway\n",
      "\n",
      "alpha = 1/(2C)"
     ]
    },
    {
     "cell_type": "code",
     "collapsed": false,
     "input": [
      "from sklearn.linear_model import Ridge, RidgeCV"
     ],
     "language": "python",
     "metadata": {},
     "outputs": [],
     "prompt_number": 211
    },
    {
     "cell_type": "code",
     "collapsed": false,
     "input": [
      "N = 3e5\n",
      "num_features = 3e2\n",
      "sigma = .1\n",
      "invsigma = 1/sigma\n",
      "epsilon = 1e-1\n",
      "\n",
      "w = gaussian.rvs(0, sigma, size=num_features)\n",
      "X = np.random.randint(0, 2, size=(N, num_features))\n",
      "mu = X.dot(w)\n",
      "y = mu + gaussian.rvs(0, epsilon, size=N)"
     ],
     "language": "python",
     "metadata": {},
     "outputs": [],
     "prompt_number": 247
    },
    {
     "cell_type": "code",
     "collapsed": false,
     "input": [
      "lm = Ridge(alpha=0)\n",
      "lm.fit(X, y)\n",
      "print('coefficient error', np.linalg.norm(lm.coef_ - w))"
     ],
     "language": "python",
     "metadata": {},
     "outputs": [
      {
       "output_type": "stream",
       "stream": "stdout",
       "text": [
        "coefficient error 0.0067882001884\n"
       ]
      }
     ],
     "prompt_number": 244
    },
    {
     "cell_type": "code",
     "collapsed": false,
     "input": [
      "alphas = np.linspace(.8, 1.2, 20)\n",
      "lm = RidgeCV(alphas=alphas)\n",
      "lm.fit(X, y);"
     ],
     "language": "python",
     "metadata": {},
     "outputs": [],
     "prompt_number": 248
    },
    {
     "cell_type": "code",
     "collapsed": false,
     "input": [
      "lm.alpha_"
     ],
     "language": "python",
     "metadata": {},
     "outputs": [
      {
       "metadata": {},
       "output_type": "pyout",
       "prompt_number": 249,
       "text": [
        "1.0105263157894737"
       ]
      }
     ],
     "prompt_number": 249
    },
    {
     "cell_type": "code",
     "collapsed": false,
     "input": [
      "alphas"
     ],
     "language": "python",
     "metadata": {},
     "outputs": [
      {
       "metadata": {},
       "output_type": "pyout",
       "prompt_number": 250,
       "text": [
        "array([ 0.8       ,  0.82105263,  0.84210526,  0.86315789,  0.88421053,\n",
        "        0.90526316,  0.92631579,  0.94736842,  0.96842105,  0.98947368,\n",
        "        1.01052632,  1.03157895,  1.05263158,  1.07368421,  1.09473684,\n",
        "        1.11578947,  1.13684211,  1.15789474,  1.17894737,  1.2       ])"
       ]
      }
     ],
     "prompt_number": 250
    },
    {
     "cell_type": "code",
     "collapsed": false,
     "input": [
      "2*.1**.5"
     ],
     "language": "python",
     "metadata": {},
     "outputs": [
      {
       "metadata": {},
       "output_type": "pyout",
       "prompt_number": 252,
       "text": [
        "0.6324555320336759"
       ]
      }
     ],
     "prompt_number": 252
    },
    {
     "cell_type": "code",
     "collapsed": false,
     "input": [
      "2*.3**.5"
     ],
     "language": "python",
     "metadata": {},
     "outputs": [
      {
       "metadata": {},
       "output_type": "pyout",
       "prompt_number": 253,
       "text": [
        "1.0954451150103321"
       ]
      }
     ],
     "prompt_number": 253
    }
   ],
   "metadata": {}
  }
 ]
}